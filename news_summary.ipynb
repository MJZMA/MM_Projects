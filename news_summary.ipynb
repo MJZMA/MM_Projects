{
 "cells": [
  {
   "cell_type": "code",
   "execution_count": 3,
   "metadata": {},
   "outputs": [
    {
     "name": "stderr",
     "output_type": "stream",
     "text": [
      "[nltk_data] Downloading package punkt to\n",
      "[nltk_data]     C:\\Users\\USER\\AppData\\Roaming\\nltk_data...\n",
      "[nltk_data]   Unzipping tokenizers\\punkt.zip.\n",
      "[nltk_data] Downloading package stopwords to\n",
      "[nltk_data]     C:\\Users\\USER\\AppData\\Roaming\\nltk_data...\n",
      "[nltk_data]   Unzipping corpora\\stopwords.zip.\n"
     ]
    },
    {
     "data": {
      "text/plain": [
       "True"
      ]
     },
     "execution_count": 3,
     "metadata": {},
     "output_type": "execute_result"
    }
   ],
   "source": [
    "import requests\n",
    "from bs4 import BeautifulSoup\n",
    "import pandas as pd\n",
    "import nltk\n",
    "from nltk.corpus import stopwords\n",
    "from nltk.tokenize import word_tokenize\n",
    "from nltk.probability import FreqDist\n",
    "nltk.download('punkt')\n",
    "nltk.download('stopwords')\n"
   ]
  },
  {
   "cell_type": "code",
   "execution_count": 4,
   "metadata": {},
   "outputs": [],
   "source": [
    "def fetch_news(url):\n",
    "    response = requests.get(url)\n",
    "    soup = BeautifulSoup(response.content, 'html.parser')\n",
    "    articles = soup.find_all('article')\n",
    "    news_items = []\n",
    "\n",
    "    for article in articles:\n",
    "        title = article.find('h2').text\n",
    "        summary = article.find('p').text\n",
    "        news_items.append({'title': title, 'summary': summary})\n",
    "\n",
    "    return news_items"
   ]
  },
  {
   "cell_type": "code",
   "execution_count": 6,
   "metadata": {},
   "outputs": [],
   "source": [
    "equity_news = fetch_news('https://www.bloomberg.com/markets/stocks')\n",
    "fixed_income_news = fetch_news('https://www.bloomberg.com/markets/fixed-income')\n",
    "fx_news = fetch_news('https://www.bloomberg.com/fx-center')\n",
    "commodity_news = fetch_news('https://www.bloomberg.com/markets/commodities')\n"
   ]
  },
  {
   "cell_type": "code",
   "execution_count": 7,
   "metadata": {},
   "outputs": [],
   "source": [
    "def summarize_text(text):\n",
    "    stop_words = set(stopwords.words('english'))\n",
    "    word_tokens = word_tokenize(text)\n",
    "    filtered_sentence = [w for w in word_tokens if not w.lower() in stop_words]\n",
    "    fdist = FreqDist(filtered_sentence)\n",
    "    common_words = fdist.most_common(10)\n",
    "    summary = ' '.join([word for word, freq in common_words])\n",
    "    return summary\n",
    "\n"
   ]
  },
  {
   "cell_type": "code",
   "execution_count": 8,
   "metadata": {},
   "outputs": [],
   "source": [
    "def summarize_news(news_items):\n",
    "    summaries = []\n",
    "    for item in news_items:\n",
    "        summary = summarize_text(item['summary'])\n",
    "        summaries.append({'title': item['title'], 'summary': summary})\n",
    "    return summaries\n"
   ]
  },
  {
   "cell_type": "code",
   "execution_count": 9,
   "metadata": {},
   "outputs": [],
   "source": [
    "\n",
    "equity_summaries = summarize_news(equity_news)\n",
    "fixed_income_summaries = summarize_news(fixed_income_news)\n",
    "fx_summaries = summarize_news(fx_news)\n",
    "commodity_summaries = summarize_news(commodity_news)"
   ]
  },
  {
   "cell_type": "code",
   "execution_count": 10,
   "metadata": {},
   "outputs": [
    {
     "name": "stdout",
     "output_type": "stream",
     "text": [
      "Empty DataFrame\n",
      "Columns: [category]\n",
      "Index: []\n"
     ]
    }
   ],
   "source": [
    "def create_dataframe(news_summaries, category):\n",
    "    df = pd.DataFrame(news_summaries)\n",
    "    df['category'] = category\n",
    "    return df\n",
    "\n",
    "equity_df = create_dataframe(equity_summaries, 'Equity')\n",
    "fixed_income_df = create_dataframe(fixed_income_summaries, 'Fixed Income')\n",
    "fx_df = create_dataframe(fx_summaries, 'FX')\n",
    "commodity_df = create_dataframe(commodity_summaries, 'Commodity')\n",
    "\n",
    "all_news_df = pd.concat([equity_df, fixed_income_df, fx_df, commodity_df])\n",
    "all_news_df.reset_index(drop=True, inplace=True)\n",
    "\n",
    "print(all_news_df)\n"
   ]
  },
  {
   "cell_type": "code",
   "execution_count": null,
   "metadata": {},
   "outputs": [],
   "source": []
  },
  {
   "cell_type": "code",
   "execution_count": null,
   "metadata": {},
   "outputs": [],
   "source": []
  }
 ],
 "metadata": {
  "kernelspec": {
   "display_name": "Python 3",
   "language": "python",
   "name": "python3"
  },
  "language_info": {
   "codemirror_mode": {
    "name": "ipython",
    "version": 3
   },
   "file_extension": ".py",
   "mimetype": "text/x-python",
   "name": "python",
   "nbconvert_exporter": "python",
   "pygments_lexer": "ipython3",
   "version": "3.12.4"
  }
 },
 "nbformat": 4,
 "nbformat_minor": 2
}
