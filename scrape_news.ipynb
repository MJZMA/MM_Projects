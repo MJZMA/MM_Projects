{
 "cells": [
  {
   "cell_type": "markdown",
   "metadata": {},
   "source": [
    "# Scrape Market News \n",
    "### From Yahoo Finance Stock Market News"
   ]
  },
  {
   "cell_type": "code",
   "execution_count": 65,
   "metadata": {},
   "outputs": [],
   "source": [
    "import requests\n",
    "import bs4\n",
    "from bs4 import BeautifulSoup"
   ]
  },
  {
   "cell_type": "markdown",
   "metadata": {},
   "source": [
    "Below is the code that I have written to scrape the data from the website. I have used the requests module to get the data from the website and then used the BeautifulSoup module to parse the data."
   ]
  },
  {
   "cell_type": "code",
   "execution_count": 68,
   "metadata": {},
   "outputs": [],
   "source": [
    "request = requests.get(\"https://finance.yahoo.com/topic/stock-market-news/\") # change based on website needed. Be aware of the restrictions in scraping \n",
    "soup = bs4.BeautifulSoup(request.text, \"html.parser\")"
   ]
  },
  {
   "cell_type": "code",
   "execution_count": 58,
   "metadata": {},
   "outputs": [],
   "source": [
    "# print(type(soup))\n",
    "# print(soup.title)\n",
    "para = soup.select('p')\n",
    "# print(para)"
   ]
  },
  {
   "cell_type": "code",
   "execution_count": 63,
   "metadata": {},
   "outputs": [
    {
     "name": "stdout",
     "output_type": "stream",
     "text": [
      "<p class=\"P(20px) M(0)\"><span>We are experiencing some temporary issues. The market data on this page is currently delayed. Please bear with us as we address this and restore your personalized lists.</span></p>\n"
     ]
    }
   ],
   "source": [
    "para_one = soup.select_one('p')\n",
    "print(para_one)"
   ]
  },
  {
   "cell_type": "code",
   "execution_count": 64,
   "metadata": {},
   "outputs": [
    {
     "name": "stdout",
     "output_type": "stream",
     "text": [
      "[<a class=\"Fw(b) Fz(18px) Lh(23px) LineClamp(2,46px) Fz(17px)--sm1024 Lh(19px)--sm1024 LineClamp(2,38px)--sm1024 mega-item-header-link Td(n) C(#0078ff):h C(#000) LineClamp(2,46px) LineClamp(2,38px)--sm1024 not-isInStreamVideoEnabled\" href=\"https://finance.yahoo.com/news/stocks-looking-eerily-similar-last-021413181.html\"><u class=\"StretchedBox\"></u>Stocks are looking 'eerily similar' to the last bear-market crash, Charles Schwab says</a>, <a class=\"Fw(b) Fz(18px) Lh(23px) LineClamp(2,46px) Fz(17px)--sm1024 Lh(19px)--sm1024 LineClamp(2,38px)--sm1024 mega-item-header-link Td(n) C(#0078ff):h C(#000) LineClamp(2,46px) LineClamp(2,38px)--sm1024 not-isInStreamVideoEnabled\" href=\"https://finance.yahoo.com/news/japanese-stocks-rise-nvidia-rebound-223122867.html\"><u class=\"StretchedBox\"></u>Asian Stocks Steady, Aussie Rises After CPI Beat: Markets Wrap</a>, <a class=\"Fw(b) Fz(18px) Lh(23px) LineClamp(2,46px) Fz(17px)--sm1024 Lh(19px)--sm1024 LineClamp(2,38px)--sm1024 mega-item-header-link Td(n) C(#0078ff):h C(#000) LineClamp(2,46px) LineClamp(2,38px)--sm1024 not-isInStreamVideoEnabled\" href=\"https://finance.yahoo.com/news/labor-slowdown-could-ruin-americas-011048793.html\"><u class=\"StretchedBox\"></u>A labor slowdown could ruin America's soft-landing hopes and cause a 10% stock correction, Morgan Stanley CIO says</a>, <a class=\"Fw(b) Fz(18px) Lh(23px) LineClamp(2,46px) Fz(17px)--sm1024 Lh(19px)--sm1024 LineClamp(2,38px)--sm1024 mega-item-header-link Td(n) C(#0078ff):h C(#000) LineClamp(2,46px) LineClamp(2,38px)--sm1024 not-isInStreamVideoEnabled\" href=\"https://finance.yahoo.com/news/us-real-estate-market-headed-163024059.html\"><u class=\"StretchedBox\"></u>The US real-estate market is headed for a correction, strategist says</a>, <a class=\"Fw(b) Fz(18px) Lh(23px) LineClamp(2,46px) Fz(17px)--sm1024 Lh(19px)--sm1024 LineClamp(2,38px)--sm1024 mega-item-header-link Td(n) C(#0078ff):h C(#000) LineClamp(2,46px) LineClamp(2,38px)--sm1024 not-isInStreamVideoEnabled\" href=\"https://finance.yahoo.com/news/man-group-fund-expects-china-002757086.html\"><u class=\"StretchedBox\"></u>Man Group Fund Expects China Market Rebound With Policy Boost</a>, <a class=\"Fw(b) Fz(18px) Lh(23px) LineClamp(2,46px) Fz(17px)--sm1024 Lh(19px)--sm1024 LineClamp(2,38px)--sm1024 mega-item-header-link Td(n) C(#0078ff):h C(#000) LineClamp(2,46px) LineClamp(2,38px)--sm1024 not-isInStreamVideoEnabled\" href=\"https://finance.yahoo.com/news/why-stock-market-could-surge-001255471.html\"><u class=\"StretchedBox\"></u>Why the stock market could surge 4% to record highs by the end of July</a>, <a class=\"Fw(b) Fz(18px) Lh(23px) LineClamp(2,46px) Fz(17px)--sm1024 Lh(19px)--sm1024 LineClamp(2,38px)--sm1024 mega-item-header-link Td(n) C(#0078ff):h C(#000) LineClamp(2,46px) LineClamp(2,38px)--sm1024 not-isInStreamVideoEnabled\" href=\"https://finance.yahoo.com/news/agnico-eagle-stock-nyse-aem-234943624.html\"><u class=\"StretchedBox\"></u>Agnico Eagle Stock (NYSE:AEM) Receives Several Buy Ratings. The Optimism Makes Sense</a>, <a class=\"Fw(b) Fz(18px) Lh(23px) LineClamp(2,46px) Fz(17px)--sm1024 Lh(19px)--sm1024 LineClamp(2,38px)--sm1024 mega-item-header-link Td(n) C(#0078ff):h C(#000) LineClamp(2,46px) LineClamp(2,38px)--sm1024 not-isInStreamVideoEnabled\" href=\"https://finance.yahoo.com/news/margin-trades-30-billion-add-224509689.html\"><u class=\"StretchedBox\"></u>Margin Trades of $30 Billion Add to Risks for Japan Stock Rally</a>, <a class=\"Fw(b) Fz(18px) Lh(23px) LineClamp(2,46px) Fz(17px)--sm1024 Lh(19px)--sm1024 LineClamp(2,38px)--sm1024 mega-item-header-link Td(n) C(#0078ff):h C(#000) LineClamp(2,46px) LineClamp(2,38px)--sm1024 not-isInStreamVideoEnabled\" href=\"https://finance.yahoo.com/news/forget-amd-nvidia-still-king-222900589.html\"><u class=\"StretchedBox\"></u>Forget AMD: Nvidia Is Still the King, According to 1 Wall Street Analyst. What Does This Mean for Investors?</a>, <a class=\"Fw(b) Fz(18px) Lh(23px) LineClamp(2,46px) Fz(17px)--sm1024 Lh(19px)--sm1024 LineClamp(2,38px)--sm1024 mega-item-header-link Td(n) C(#0078ff):h C(#000) LineClamp(2,46px) LineClamp(2,38px)--sm1024 not-isInStreamVideoEnabled\" href=\"https://finance.yahoo.com/news/trump-medias-wild-rollercoaster-ride-214636362.html\"><u class=\"StretchedBox\"></u>Trump Media's wild rollercoaster ride: Why volatile DJT stock is gaining steam</a>]\n",
      "Title: Stocks are looking 'eerily similar' to the last bear-market crash, Charles Schwab says\n",
      "Title: Asian Stocks Steady, Aussie Rises After CPI Beat: Markets Wrap\n",
      "Title: A labor slowdown could ruin America's soft-landing hopes and cause a 10% stock correction, Morgan Stanley CIO says\n",
      "Title: The US real-estate market is headed for a correction, strategist says\n",
      "Title: Man Group Fund Expects China Market Rebound With Policy Boost\n",
      "Title: Why the stock market could surge 4% to record highs by the end of July\n",
      "Title: Agnico Eagle Stock (NYSE:AEM) Receives Several Buy Ratings. The Optimism Makes Sense\n",
      "Title: Margin Trades of $30 Billion Add to Risks for Japan Stock Rally\n",
      "Title: Forget AMD: Nvidia Is Still the King, According to 1 Wall Street Analyst. What Does This Mean for Investors?\n",
      "Title: Trump Media's wild rollercoaster ride: Why volatile DJT stock is gaining steam\n"
     ]
    }
   ],
   "source": [
    "# Find all <a> tags\n",
    "anchor_tags = soup.find_all('a', attrs={'class': 'Fw(b) Fz(18px) Lh(23px) LineClamp(2,46px) Fz(17px)--sm1024 Lh(19px)--sm1024 LineClamp(2,38px)--sm1024 mega-item-header-link Td(n) C(#0078ff):h C(#000) LineClamp(2,46px) LineClamp(2,38px)--sm1024 not-isInStreamVideoEnabled'})\n",
    "print(anchor_tags)\n",
    "# Iterate over <a> tags and extract titles\n",
    "for anchor in anchor_tags:\n",
    "    title = anchor.text.strip()\n",
    "    print('Title:', title)"
   ]
  }
 ],
 "metadata": {
  "kernelspec": {
   "display_name": "Python 3",
   "language": "python",
   "name": "python3"
  },
  "language_info": {
   "codemirror_mode": {
    "name": "ipython",
    "version": 3
   },
   "file_extension": ".py",
   "mimetype": "text/x-python",
   "name": "python",
   "nbconvert_exporter": "python",
   "pygments_lexer": "ipython3",
   "version": "3.12.4"
  }
 },
 "nbformat": 4,
 "nbformat_minor": 2
}
