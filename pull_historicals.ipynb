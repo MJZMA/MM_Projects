{
 "cells": [
  {
   "cell_type": "markdown",
   "metadata": {},
   "source": [
    "# Pull Financial Historicals"
   ]
  },
  {
   "cell_type": "markdown",
   "metadata": {
    "vscode": {
     "languageId": "plaintext"
    }
   },
   "source": [
    "## Goal\n",
    "**Automate pulling financial historicals from North American public companies**"
   ]
  },
  {
   "cell_type": "markdown",
   "metadata": {},
   "source": [
    "## Setup\n",
    "\n",
    "First, import the relevant libraries."
   ]
  },
  {
   "cell_type": "code",
   "execution_count": 17,
   "metadata": {},
   "outputs": [],
   "source": [
    "import requests\n",
    "from bs4 import BeautifulSoup\n",
    "import pandas as pd\n"
   ]
  },
  {
   "cell_type": "markdown",
   "metadata": {},
   "source": [
    "<div class=\"alert alert-block alert-info\">\n",
    "<b>Tip:</b> The \"headers\" below is commonly used in HTTP requests to specify various parameters that control the request behavior and inform the server about the client's environment. \n",
    "</div>"
   ]
  },
  {
   "cell_type": "markdown",
   "metadata": {},
   "source": [
    "**User-Agent:** This header identifies the client software.\n",
    "\n",
    ">'User-Agent': 'Mozilla/5.0 (Windows NT 10.0; Win64; x64) AppleWebKit/537.36 (KHTML, like Gecko) Chrome/126.0.0.0 Safari/537.36'\n",
    "Accept: This header specifies the types of content the client can process.\n",
    "\n",
    "**'Accept':** This header specifies the types of content the client can process. \n",
    "\n",
    ">'Accept': 'text/html,application/xhtml+xml,application/xml;q=0.9,image/avif,image/webp,image/apng,*/*;q=0.8,application/signed-exchange;v=b3;q=0.7'\n",
    "Accept-Language: This header indicates the preferred languages for the response.\n",
    "\n",
    "**Accept-Language:** This header indicates the preferred languages for the response.\n",
    ">'Accept-Language': 'en-CA,en-US;q=0.9,en;q=0.8,zh-CN;q=0.7,zh;q=0.6'\n",
    "Cache-Control: This header controls caching behavior.\n",
    "\n",
    "**Cache-Control:** This header controls caching behavior.\n",
    ">'Cache-Control': 'max-age=0'\n",
    "\n",
    "\n",
    "**Connection:** This header controls whether the connection stays open after the current transaction.\n",
    "\n",
    ">'Connection': 'keep-alive'\n",
    "Upgrade-Insecure-Requests: This header indicates the client's preference for secure connections.\n",
    "\n",
    "**Upgrade-Insecure-Requests:** This header indicates the client's preference for secure connections.\n",
    ">'Upgrade-Insecure-Requests': '1'\n",
    "Accept-Encoding: This header specifies the content-encoding the client can handle.\n",
    "\n",
    "**Accept-Encoding:** This header specifies the content-encoding the client can handle.\n",
    ">'Accept-Encoding': 'gzip, deflate, br, zstd'"
   ]
  },
  {
   "cell_type": "code",
   "execution_count": 18,
   "metadata": {},
   "outputs": [],
   "source": [
    "headers = {\n",
    "    'User-Agent': 'Mozilla/5.0 (Windows NT 10.0; Win64; x64) AppleWebKit/537.36 (KHTML, like Gecko) Chrome/126.0.0.0 Safari/537.36',\n",
    "    'Accept': 'text/html,application/xhtml+xml,application/xml;q=0.9,image/avif,image/webp,image/apng,*/*;q=0.8,application/signed-exchange;v=b3;q=0.7',\n",
    "    'Accept-Language': 'en-CA,en-US;q=0.9,en;q=0.8,zh-CN;q=0.7,zh;q=0.6',\n",
    "    'Cache-Control': 'max-age=0',\n",
    "    'Connection': 'keep-alive',\n",
    "    'Upgrade-Insecure-Requests': '1',\n",
    "    'Accept-Encoding': 'gzip, deflate, br, zstd'\n",
    "}\n"
   ]
  },
  {
   "cell_type": "markdown",
   "metadata": {},
   "source": [
    "To get your own HTTP headers, particularly the User-Agent, you can inspect the network requests made by your web browser. Here’s how you can do it for different browsers:\n",
    "\n",
    "**Google Chrome**\n",
    "\n",
    "- Open the Developer Tools:\n",
    "\n",
    "    - Right-click on a web page and select \"Inspect,\" or press Ctrl+Shift+I (Windows/Linux) or Cmd+Option+I (Mac).\n",
    "\n",
    "- Go to the Network Tab:\n",
    "\n",
    "    - Click on the \"Network\" tab at the top of the Developer Tools pane.\n",
    "\n",
    "- Reload the Page:\n",
    "\n",
    "    - Reload the page (F5 or Ctrl+R) to capture the network requests.\n",
    "\n",
    "- Select a Request:\n",
    "\n",
    "    - Click on any request listed in the \"Network\" tab. The main HTML document request is usually at the top.\n",
    "\n",
    "- View Headers:\n",
    "\n",
    "    - In the right-hand pane, click on the \"Headers\" tab to see the details of the request headers."
   ]
  },
  {
   "cell_type": "markdown",
   "metadata": {},
   "source": [
    "<div class=\"alert alert-block alert-warning\">\n",
    "<b>Important:</b> Note that due to anti-scraping techniques, the website is case sensitive, only lower case ticker can access quarterly.\n",
    "\n",
    "</div>"
   ]
  },
  {
   "cell_type": "markdown",
   "metadata": {},
   "source": [
    "**Please type the ticker of the company below in all lower case.**"
   ]
  },
  {
   "cell_type": "code",
   "execution_count": 29,
   "metadata": {},
   "outputs": [],
   "source": [
    "ticker = 'nvda' \n"
   ]
  },
  {
   "cell_type": "markdown",
   "metadata": {},
   "source": [
    "The different worksheets to scrape are:"
   ]
  },
  {
   "cell_type": "code",
   "execution_count": 33,
   "metadata": {},
   "outputs": [],
   "source": [
    "\n",
    "urls = {}\n",
    "urls['income annually'] = f\"https://stockanalysis.com/stocks/{ticker}/financials/\"\n",
    "urls['income quarterly'] = f\"https://stockanalysis.com/stocks/{ticker}/financials/?p=quarterly\"\n",
    "urls['balance sheet annually'] = f\"https://stockanalysis.com/stocks/{ticker}/financials/balance-sheet/\"\n",
    "urls['balance sheet quarterly'] = f\"https://stockanalysis.com/stocks/{ticker}/financials/balance-sheet/?p=quarterly\"\n",
    "urls['cash flow annually'] = f\"https://stockanalysis.com/stocks/{ticker}/financials/cash-flow-statement/\"\n",
    "urls['cash flow quarterly'] = f\"https://stockanalysis.com/stocks/{ticker}/financials/cash-flow-statement/?p=quarterly\"\n",
    "urls['ratio annually'] = f\"https://stockanalysis.com/stocks/{ticker}/financials/ratios/\"\n",
    "urls['ratio quarterly'] = f\"https://stockanalysis.com/stocks/{ticker}/financials/ratios/?p=quarterly\"\n",
    "\n",
    "# feel free to comment out ones that you do not want or reorder them"
   ]
  },
  {
   "cell_type": "code",
   "execution_count": 34,
   "metadata": {},
   "outputs": [],
   "source": [
    "filename = f'financial statements ({ticker}).xlsx'\n"
   ]
  },
  {
   "cell_type": "code",
   "execution_count": 35,
   "metadata": {},
   "outputs": [
    {
     "name": "stderr",
     "output_type": "stream",
     "text": [
      "C:\\Users\\USER\\AppData\\Local\\Temp\\ipykernel_15076\\3807159506.py:6: FutureWarning: Passing literal html to 'read_html' is deprecated and will be removed in a future version. To read from a literal string, wrap it in a 'StringIO' object.\n",
      "  df = pd.read_html(str(soup), attrs={'data-test': 'financials'})[0]\n",
      "C:\\Users\\USER\\AppData\\Local\\Temp\\ipykernel_15076\\3807159506.py:6: FutureWarning: Passing literal html to 'read_html' is deprecated and will be removed in a future version. To read from a literal string, wrap it in a 'StringIO' object.\n",
      "  df = pd.read_html(str(soup), attrs={'data-test': 'financials'})[0]\n",
      "C:\\Users\\USER\\AppData\\Local\\Temp\\ipykernel_15076\\3807159506.py:6: FutureWarning: Passing literal html to 'read_html' is deprecated and will be removed in a future version. To read from a literal string, wrap it in a 'StringIO' object.\n",
      "  df = pd.read_html(str(soup), attrs={'data-test': 'financials'})[0]\n",
      "C:\\Users\\USER\\AppData\\Local\\Temp\\ipykernel_15076\\3807159506.py:6: FutureWarning: Passing literal html to 'read_html' is deprecated and will be removed in a future version. To read from a literal string, wrap it in a 'StringIO' object.\n",
      "  df = pd.read_html(str(soup), attrs={'data-test': 'financials'})[0]\n",
      "C:\\Users\\USER\\AppData\\Local\\Temp\\ipykernel_15076\\3807159506.py:6: FutureWarning: Passing literal html to 'read_html' is deprecated and will be removed in a future version. To read from a literal string, wrap it in a 'StringIO' object.\n",
      "  df = pd.read_html(str(soup), attrs={'data-test': 'financials'})[0]\n",
      "C:\\Users\\USER\\AppData\\Local\\Temp\\ipykernel_15076\\3807159506.py:6: FutureWarning: Passing literal html to 'read_html' is deprecated and will be removed in a future version. To read from a literal string, wrap it in a 'StringIO' object.\n",
      "  df = pd.read_html(str(soup), attrs={'data-test': 'financials'})[0]\n",
      "C:\\Users\\USER\\AppData\\Local\\Temp\\ipykernel_15076\\3807159506.py:6: FutureWarning: Passing literal html to 'read_html' is deprecated and will be removed in a future version. To read from a literal string, wrap it in a 'StringIO' object.\n",
      "  df = pd.read_html(str(soup), attrs={'data-test': 'financials'})[0]\n",
      "C:\\Users\\USER\\AppData\\Local\\Temp\\ipykernel_15076\\3807159506.py:6: FutureWarning: Passing literal html to 'read_html' is deprecated and will be removed in a future version. To read from a literal string, wrap it in a 'StringIO' object.\n",
      "  df = pd.read_html(str(soup), attrs={'data-test': 'financials'})[0]\n"
     ]
    }
   ],
   "source": [
    "with pd.ExcelWriter(filename, engine='xlsxwriter') as xlwriter:\n",
    "\n",
    "    for key in urls.keys():\n",
    "        response = requests.get(urls[key], headers=headers)\n",
    "        soup = BeautifulSoup(response.content, 'html.parser')\n",
    "        df = pd.read_html(str(soup), attrs={'data-test': 'financials'})[0]\n",
    "\n",
    "        # drop the last column\n",
    "        df = df.iloc[:, :-1]\n",
    "\n",
    "        # Split the DataFrame into the first column and the remaining columns\n",
    "        first_column = df.iloc[:, 0]\n",
    "        remaining_columns = df.iloc[:, 1:]\n",
    "            \n",
    "        # Reverse the order of the remaining columns\n",
    "        remaining_columns = remaining_columns.iloc[:, ::-1]\n",
    "            \n",
    "        # Concatenate the first column with the reversed remaining columns\n",
    "        df = pd.concat([first_column, remaining_columns], axis=1)\n",
    "\n",
    "        df.to_excel(xlwriter, sheet_name=key, index=False)\n",
    "\n",
    "        worksheet = xlwriter.sheets[key]\n",
    "        for i, col in enumerate(df.columns):\n",
    "            max_length = max(df[col].astype(str).map(len).max(), len(col)) + 2  # Adding a little extra space\n",
    "            worksheet.set_column(i, i, max_length)\n",
    " \n",
    "\n"
   ]
  },
  {
   "cell_type": "markdown",
   "metadata": {},
   "source": [
    "<div class=\"alert alert-block alert-success\">\n",
    "<b>Up to you:</b> Congratulations! You will now see the extracted file saved in the same directory this program is downlowded at. \n",
    "</div>"
   ]
  },
  {
   "cell_type": "markdown",
   "metadata": {},
   "source": [
    "The methodology and implementation due credit to Jie Jenn. \n",
    "https://youtu.be/tr_NQVUdmvY?si=va25lutZmMWGZC_C\n"
   ]
  }
 ],
 "metadata": {
  "kernelspec": {
   "display_name": "Python 3",
   "language": "python",
   "name": "python3"
  },
  "language_info": {
   "codemirror_mode": {
    "name": "ipython",
    "version": 3
   },
   "file_extension": ".py",
   "mimetype": "text/x-python",
   "name": "python",
   "nbconvert_exporter": "python",
   "pygments_lexer": "ipython3",
   "version": "3.12.4"
  }
 },
 "nbformat": 4,
 "nbformat_minor": 2
}
