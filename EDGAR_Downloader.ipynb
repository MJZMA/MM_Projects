{
 "cells": [
  {
   "cell_type": "markdown",
   "metadata": {},
   "source": [
    "# Scrape Data from EDGAR"
   ]
  },
  {
   "cell_type": "code",
   "execution_count": 2,
   "metadata": {},
   "outputs": [
    {
     "name": "stdout",
     "output_type": "stream",
     "text": [
      "10-K filings for AAPL have been downloaded to c:\\Users\\USER\\Documents\\The Ma's Library\\MM_Projects\\sec-edgar-filings\n",
      "Checking directory: c:\\Users\\USER\\Documents\\The Ma's Library\\MM_Projects\\sec-edgar-filings\\AAPL\\10-K\n",
      "Contents of c:\\Users\\USER\\Documents\\The Ma's Library\\MM_Projects\\sec-edgar-filings\\AAPL\\10-K: ['0000320193-17-000070', '0000320193-18-000145', '0000320193-19-000119', '0000320193-20-000096', '0000320193-21-000105', '0000320193-22-000108', '0000320193-23-000106', '0000320193-94-000016', '0000320193-95-000016', '0000320193-96-000023', '0000912057-00-053623', '0000912057-99-010244', '0001047469-02-007674', '0001047469-03-041604', '0001047469-04-035975', '0001047469-07-009340', '0001047469-97-006960', '0001104659-05-058421', '0001104659-06-084288', '0001193125-08-224958', '0001193125-09-214859', '0001193125-10-238044', '0001193125-11-282113', '0001193125-12-444068', '0001193125-13-416534', '0001193125-14-383437', '0001193125-15-356351', '0001628280-16-020309']\n",
      "Collected .txt files: [\"c:\\\\Users\\\\USER\\\\Documents\\\\The Ma's Library\\\\MM_Projects\\\\sec-edgar-filings\\\\AAPL\\\\10-K\\\\0000320193-17-000070\\\\full-submission.txt\", \"c:\\\\Users\\\\USER\\\\Documents\\\\The Ma's Library\\\\MM_Projects\\\\sec-edgar-filings\\\\AAPL\\\\10-K\\\\0000320193-18-000145\\\\full-submission.txt\", \"c:\\\\Users\\\\USER\\\\Documents\\\\The Ma's Library\\\\MM_Projects\\\\sec-edgar-filings\\\\AAPL\\\\10-K\\\\0000320193-19-000119\\\\full-submission.txt\", \"c:\\\\Users\\\\USER\\\\Documents\\\\The Ma's Library\\\\MM_Projects\\\\sec-edgar-filings\\\\AAPL\\\\10-K\\\\0000320193-20-000096\\\\full-submission.txt\", \"c:\\\\Users\\\\USER\\\\Documents\\\\The Ma's Library\\\\MM_Projects\\\\sec-edgar-filings\\\\AAPL\\\\10-K\\\\0000320193-21-000105\\\\full-submission.txt\", \"c:\\\\Users\\\\USER\\\\Documents\\\\The Ma's Library\\\\MM_Projects\\\\sec-edgar-filings\\\\AAPL\\\\10-K\\\\0000320193-22-000108\\\\full-submission.txt\", \"c:\\\\Users\\\\USER\\\\Documents\\\\The Ma's Library\\\\MM_Projects\\\\sec-edgar-filings\\\\AAPL\\\\10-K\\\\0000320193-23-000106\\\\full-submission.txt\", \"c:\\\\Users\\\\USER\\\\Documents\\\\The Ma's Library\\\\MM_Projects\\\\sec-edgar-filings\\\\AAPL\\\\10-K\\\\0000320193-94-000016\\\\full-submission.txt\", \"c:\\\\Users\\\\USER\\\\Documents\\\\The Ma's Library\\\\MM_Projects\\\\sec-edgar-filings\\\\AAPL\\\\10-K\\\\0000320193-95-000016\\\\full-submission.txt\", \"c:\\\\Users\\\\USER\\\\Documents\\\\The Ma's Library\\\\MM_Projects\\\\sec-edgar-filings\\\\AAPL\\\\10-K\\\\0000320193-96-000023\\\\full-submission.txt\", \"c:\\\\Users\\\\USER\\\\Documents\\\\The Ma's Library\\\\MM_Projects\\\\sec-edgar-filings\\\\AAPL\\\\10-K\\\\0000912057-00-053623\\\\full-submission.txt\", \"c:\\\\Users\\\\USER\\\\Documents\\\\The Ma's Library\\\\MM_Projects\\\\sec-edgar-filings\\\\AAPL\\\\10-K\\\\0000912057-99-010244\\\\full-submission.txt\", \"c:\\\\Users\\\\USER\\\\Documents\\\\The Ma's Library\\\\MM_Projects\\\\sec-edgar-filings\\\\AAPL\\\\10-K\\\\0001047469-02-007674\\\\full-submission.txt\", \"c:\\\\Users\\\\USER\\\\Documents\\\\The Ma's Library\\\\MM_Projects\\\\sec-edgar-filings\\\\AAPL\\\\10-K\\\\0001047469-03-041604\\\\full-submission.txt\", \"c:\\\\Users\\\\USER\\\\Documents\\\\The Ma's Library\\\\MM_Projects\\\\sec-edgar-filings\\\\AAPL\\\\10-K\\\\0001047469-04-035975\\\\full-submission.txt\", \"c:\\\\Users\\\\USER\\\\Documents\\\\The Ma's Library\\\\MM_Projects\\\\sec-edgar-filings\\\\AAPL\\\\10-K\\\\0001047469-07-009340\\\\full-submission.txt\", \"c:\\\\Users\\\\USER\\\\Documents\\\\The Ma's Library\\\\MM_Projects\\\\sec-edgar-filings\\\\AAPL\\\\10-K\\\\0001047469-97-006960\\\\full-submission.txt\", \"c:\\\\Users\\\\USER\\\\Documents\\\\The Ma's Library\\\\MM_Projects\\\\sec-edgar-filings\\\\AAPL\\\\10-K\\\\0001104659-05-058421\\\\full-submission.txt\", \"c:\\\\Users\\\\USER\\\\Documents\\\\The Ma's Library\\\\MM_Projects\\\\sec-edgar-filings\\\\AAPL\\\\10-K\\\\0001104659-06-084288\\\\full-submission.txt\", \"c:\\\\Users\\\\USER\\\\Documents\\\\The Ma's Library\\\\MM_Projects\\\\sec-edgar-filings\\\\AAPL\\\\10-K\\\\0001193125-08-224958\\\\full-submission.txt\", \"c:\\\\Users\\\\USER\\\\Documents\\\\The Ma's Library\\\\MM_Projects\\\\sec-edgar-filings\\\\AAPL\\\\10-K\\\\0001193125-09-214859\\\\full-submission.txt\", \"c:\\\\Users\\\\USER\\\\Documents\\\\The Ma's Library\\\\MM_Projects\\\\sec-edgar-filings\\\\AAPL\\\\10-K\\\\0001193125-10-238044\\\\full-submission.txt\", \"c:\\\\Users\\\\USER\\\\Documents\\\\The Ma's Library\\\\MM_Projects\\\\sec-edgar-filings\\\\AAPL\\\\10-K\\\\0001193125-11-282113\\\\full-submission.txt\", \"c:\\\\Users\\\\USER\\\\Documents\\\\The Ma's Library\\\\MM_Projects\\\\sec-edgar-filings\\\\AAPL\\\\10-K\\\\0001193125-12-444068\\\\full-submission.txt\", \"c:\\\\Users\\\\USER\\\\Documents\\\\The Ma's Library\\\\MM_Projects\\\\sec-edgar-filings\\\\AAPL\\\\10-K\\\\0001193125-13-416534\\\\full-submission.txt\", \"c:\\\\Users\\\\USER\\\\Documents\\\\The Ma's Library\\\\MM_Projects\\\\sec-edgar-filings\\\\AAPL\\\\10-K\\\\0001193125-14-383437\\\\full-submission.txt\", \"c:\\\\Users\\\\USER\\\\Documents\\\\The Ma's Library\\\\MM_Projects\\\\sec-edgar-filings\\\\AAPL\\\\10-K\\\\0001193125-15-356351\\\\full-submission.txt\", \"c:\\\\Users\\\\USER\\\\Documents\\\\The Ma's Library\\\\MM_Projects\\\\sec-edgar-filings\\\\AAPL\\\\10-K\\\\0001628280-16-020309\\\\full-submission.txt\"]\n",
      "First filing path: c:\\Users\\USER\\Documents\\The Ma's Library\\MM_Projects\\sec-edgar-filings\\AAPL\\10-K\\0000320193-17-000070\\full-submission.txt\n",
      "Reading file: c:\\Users\\USER\\Documents\\The Ma's Library\\MM_Projects\\sec-edgar-filings\\AAPL\\10-K\\0000320193-17-000070\\full-submission.txt\n",
      "<SEC-DOCUMENT>0000320193-17-000070.txt : 20171103\n",
      "<SEC-HEADER>0000320193-17-000070.hdr.sgml : 20171103\n",
      "<ACCEPTANCE-DATETIME>20171103080137\n",
      "ACCESSION NUMBER:\t\t0000320193-17-000070\n",
      "CONFORMED SUBMISSION TYPE:\t10-K\n",
      "PUBLIC DOCUMENT COUNT:\t\t97\n",
      "CONFORMED PERIOD OF REPORT:\t20170930\n",
      "FILED AS OF DATE:\t\t20171103\n",
      "DATE AS OF CHANGE:\t\t20171103\n",
      "\n",
      "FILER:\n",
      "\n",
      "\tCOMPANY DATA:\t\n",
      "\t\tCOMPANY CONFORMED NAME:\t\t\tAPPLE INC\n",
      "\t\tCENTRAL INDEX KEY:\t\t\t0000320193\n",
      "\t\tSTANDARD INDUSTRIAL CLASSIFICATION:\tELECTRONIC COMPUTERS [3571]\n",
      "\t\tIRS NUMBER:\t\t\t\t942404110\n",
      "\t\tSTATE OF INCORPORATION:\t\t\tCA\n",
      "\t\tFISCAL YEAR END:\t\t\t0930\n",
      "\n",
      "\tFILING VALUES:\n",
      "\t\tFORM TYPE:\t\t10-K\n",
      "\t\tSEC ACT:\t\t1934 Act\n",
      "\t\tSEC FILE NUMBER:\t001-36743\n",
      "\t\tFILM NUMBER:\t\t171174673\n",
      "\n",
      "\tBUSINESS ADDRESS:\t\n",
      "\t\tSTREET 1:\t\tONE INFINITE LOOP\n",
      "\t\tCITY:\t\t\tCUPERTINO\n",
      "\t\tSTATE:\t\t\tCA\n",
      "\t\tZIP:\t\t\t95014\n",
      "\t\tBUSINESS PHONE:\t\t(408) 996-1010\n",
      "\n",
      "\tMAIL ADDRESS:\t\n",
      "\t\tSTREET 1:\t\tONE INFINITE LOOP\n",
      "\t\tCITY:\t\t\tCUPERTINO\n",
      "\t\tSTATE:\t\t\tCA\n",
      "\t\tZIP:\t\t\t95014\n",
      "\n",
      "\tFORMER COMPANY:\t\n",
      "\t\tFORMER CONFORMED NAME:\tAPPLE COMPUTER INC\n",
      "\t\tDATE OF NAME\n"
     ]
    }
   ],
   "source": [
    "import os\n",
    "import requests\n",
    "from bs4 import BeautifulSoup\n",
    "import pandas as pd\n",
    "from sec_edgar_downloader import Downloader\n",
    "\n",
    "# Create a directory for the filings if it doesn't exist\n",
    "download_directory = os.path.join(os.getcwd(), \"sec-edgar-filings\")\n",
    "os.makedirs(download_directory, exist_ok=True)\n",
    "\n",
    "# Initialize the downloader\n",
    "email_address = \"2211975083mjz@gmail.com\"\n",
    "dl = Downloader(email_address, download_directory)\n",
    "\n",
    "\n",
    "# Download 10-K filings for a specific company\n",
    "dl.get(\"10-K\", \"AAPL\")  # Replace \"AAPL\" with the desired ticker symbol\n",
    "\n",
    "print(f\"10-K filings for AAPL have been downloaded to {download_directory}\")\n",
    "\n",
    "\n",
    "# Parse the downloaded filings\n",
    "filings_dir = os.path.join(download_directory, \"AAPL\", \"10-K\")\n",
    "print(f\"Checking directory: {filings_dir}\")\n",
    "\n",
    "\n",
    "# List the contents of the directory\n",
    "try:\n",
    "    contents = os.listdir(filings_dir)\n",
    "    print(f\"Contents of {filings_dir}: {contents}\")\n",
    "except Exception as e:\n",
    "    print(f\"Error accessing directory {filings_dir}: {e}\")\n",
    "\n",
    "\n",
    "# Collect all .txt files from subdirectories\n",
    "txt_files = []\n",
    "for subdir in contents:\n",
    "    subdir_path = os.path.join(filings_dir, subdir)\n",
    "    if os.path.isdir(subdir_path):\n",
    "        subdir_contents = os.listdir(subdir_path)\n",
    "        txt_files += [os.path.join(subdir_path, f) for f in subdir_contents if f.endswith('.txt')]\n",
    "\n",
    "\n",
    "print(f\"Collected .txt files: {txt_files}\")\n",
    "\n",
    "# Print the path of the first file if it exists\n",
    "if txt_files:\n",
    "    first_filing = txt_files[0]\n",
    "    print(f\"First filing path: {first_filing}\")\n",
    "    \n",
    "    # Attempt to read and print the content of the first file\n",
    "    print(f\"Reading file: {first_filing}\")\n",
    "    try:\n",
    "        with open(first_filing, 'r', encoding='utf-8') as file:\n",
    "            content = file.read()\n",
    "            if content:\n",
    "                print(content[:1000])  # Print the first 1000 characters\n",
    "            else:\n",
    "                print(\"File is empty\")\n",
    "    except Exception as e:\n",
    "        print(f\"Error reading file: {e}\")\n",
    "else:\n",
    "    print(\"No filings found\")"
   ]
  },
  {
   "cell_type": "markdown",
   "metadata": {},
   "source": [
    "## Extract the text from the filing"
   ]
  },
  {
   "cell_type": "markdown",
   "metadata": {},
   "source": [
    "1. Identify Key Data Points: Determine which financial data points you need to extract from the 10-K filings (e.g., revenue, net income, etc.).\n",
    "2. Parse the Content: Use BeautifulSoup to parse the HTML content and extract the required data.\n",
    "3. Store the Data: Store the extracted data in a structured format, such as a pandas DataFrame.\n",
    "4. Analyze and Automate: Use the structured data for further analysis and automate the process for future use."
   ]
  },
  {
   "cell_type": "code",
   "execution_count": 4,
   "metadata": {},
   "outputs": [
    {
     "name": "stdout",
     "output_type": "stream",
     "text": [
      "Testing file: c:\\Users\\USER\\Documents\\The Ma's Library\\MM_Projects\\sec-edgar-filings\\AAPL\\10-K\\0000320193-17-000070\\full-submission.txt\n"
     ]
    },
    {
     "name": "stderr",
     "output_type": "stream",
     "text": [
      "C:\\Users\\USER\\AppData\\Local\\Temp\\ipykernel_29572\\1900815047.py:19: DeprecationWarning: The 'text' argument to find()-type methods is deprecated. Use 'string' instead.\n",
      "  net_sales_elements = soup.find_all('div', text='Net sales')\n"
     ]
    },
    {
     "name": "stdout",
     "output_type": "stream",
     "text": [
      "Extracted revenue: 229,234\n"
     ]
    }
   ],
   "source": [
    "import os\n",
    "from bs4 import BeautifulSoup\n",
    "import pandas as pd\n",
    "from sec_edgar_downloader import Downloader\n",
    "\n",
    "# Function to inspect and extract financial data from a filing\n",
    "def inspect_and_extract_filing(file_path):\n",
    "    with open(file_path, 'r', encoding='utf-8') as file:\n",
    "        content = file.read()\n",
    "\n",
    "        # Try different parsers\n",
    "        parsers = ['lxml', 'html5lib', 'html.parser']\n",
    "        for parser in parsers:\n",
    "            try:\n",
    "                soup = BeautifulSoup(content, parser)\n",
    "\n",
    "                # Find all instances of \"Net sales\" and extract the adjacent value\n",
    "                net_sales = None\n",
    "                net_sales_elements = soup.find_all('div', text='Net sales')\n",
    "                for element in net_sales_elements:\n",
    "                    # Navigate to the parent td, and find the next sibling td with the sales value\n",
    "                    parent_td = element.find_parent('td')\n",
    "                    if parent_td:\n",
    "                        sales_td = parent_td.find_next_sibling('td').find_next_sibling('td')\n",
    "                        if sales_td:\n",
    "                            net_sales = sales_td.get_text(strip=True)\n",
    "                            break\n",
    "                \n",
    "                if net_sales:\n",
    "                    return net_sales\n",
    "            except Exception as e:\n",
    "                print(f\"Error using parser {parser} on file {file_path}: {e}\")\n",
    "        \n",
    "        # If no parser works, return None\n",
    "        return None\n",
    "\n",
    "\n",
    "# Test the extraction on a single file\n",
    "if txt_files:\n",
    "    test_file = txt_files[0]\n",
    "    print(f\"Testing file: {test_file}\")\n",
    "    \n",
    "    # Attempt to extract revenue from the test file\n",
    "    revenue =  inspect_and_extract_filing(test_file)\n",
    "    if revenue:\n",
    "        print(f\"Extracted revenue: {revenue}\")\n",
    "    else:\n",
    "        print(\"No revenue information found\")\n",
    "else:\n",
    "    print(\"No filings found\")"
   ]
  },
  {
   "cell_type": "code",
   "execution_count": null,
   "metadata": {},
   "outputs": [],
   "source": []
  }
 ],
 "metadata": {
  "kernelspec": {
   "display_name": "Python 3",
   "language": "python",
   "name": "python3"
  },
  "language_info": {
   "codemirror_mode": {
    "name": "ipython",
    "version": 3
   },
   "file_extension": ".py",
   "mimetype": "text/x-python",
   "name": "python",
   "nbconvert_exporter": "python",
   "pygments_lexer": "ipython3",
   "version": "3.12.4"
  }
 },
 "nbformat": 4,
 "nbformat_minor": 2
}
